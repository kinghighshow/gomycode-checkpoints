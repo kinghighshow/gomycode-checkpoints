{
 "cells": [
  {
   "cell_type": "markdown",
   "id": "6ae0971a-7e9c-4606-9126-12ace4a869e8",
   "metadata": {},
   "source": [
    "### What You're Aiming For\r\n",
    "\r\n",
    "In this checkpoint, we are going to practice consuming public APIs through the NASA public APIs portal.\r\n",
    "\r\n",
    "Portal description : The objective of this portal is to make NASA data, including imagery, eminently accessible to application developers and data professionals. Before starting to use its APIs endpoints, it's mandatory that you generate your API KEY and store it somewhere for later use. The API key acts as the user identifier when requesting the API. To get your KEY, fill in the provided form with your personal information, and then we shall receive an email containing your personal API KEY."
   ]
  },
  {
   "cell_type": "markdown",
   "id": "cb5ca482-a064-4b5d-a9c9-84d83cb096dd",
   "metadata": {},
   "source": [
    "## Instructions\n",
    "\n",
    "- Go to the NASA API portal and generate your API KEY\n",
    "- Import the requests package and store your API KEY in variable\n",
    "- Go back to portal website and click on 'browse APIs'\n",
    "- Click on the first dropdown menu, named 'APOD' and read its documentation\n",
    "- Follow the provided documentation to ask the API endpoint for the astronomy picture of the day. Get then display the image on your notebook.\n",
    "- Go through the list of the provided API endpoints once again and select 'Astronomy Picture of the Day' option. Store the results in a pandas dataframe\n",
    "- Do the necessary data pre-processing tasks on the previous result in order to get a clean dataframe with the following columns :\n",
    "    - Asteroid ID\n",
    "    - Asteroid name\n",
    "    - The Minimal estimated diameter in Kilometre\n",
    "    - Absolute_magnitude\n",
    "    - Relative_velocity(km/s)\n",
    "- Try to export the new dataframe into a CSV file and share it with your colleagues"
   ]
  },
  {
   "cell_type": "code",
   "execution_count": 1,
   "id": "e90d0c40-f3de-49b2-bac0-1ea56f4dcb2e",
   "metadata": {},
   "outputs": [],
   "source": [
    "import requests\n",
    "import pandas as pd"
   ]
  },
  {
   "cell_type": "code",
   "execution_count": 4,
   "id": "0c14f6a8-5fe0-4bc3-8aa3-73f636f51c8d",
   "metadata": {},
   "outputs": [
    {
     "data": {
      "text/html": [
       "<img src=\"https://apod.nasa.gov/apod/image/2410/comet_mcnaught_960.jpg\"/>"
      ],
      "text/plain": [
       "<IPython.core.display.Image object>"
      ]
     },
     "metadata": {},
     "output_type": "display_data"
    }
   ],
   "source": [
    "import requests\n",
    "from IPython.display import Image, display\n",
    "\n",
    "# Your API key and URL\n",
    "api_key = \"wpjAsnktWXBoOL12sGVIsZzfNXiquGGsTgeSnPgG\"\n",
    "url = f\"https://api.nasa.gov/planetary/apod?api_key={api_key}\"\n",
    "\n",
    "# Make the API call\n",
    "response = requests.get(url)\n",
    "\n",
    "# Convert the response to JSON format\n",
    "data = response.json()\n",
    "\n",
    "# Extract the URL of the image\n",
    "image_url = data['url']\n",
    "\n",
    "# Display the image\n",
    "display(Image(url=image_url))\n"
   ]
  },
  {
   "cell_type": "code",
   "execution_count": 9,
   "id": "acda7df7-74df-4d7f-bdad-86368eb26800",
   "metadata": {},
   "outputs": [
    {
     "name": "stdout",
     "output_type": "stream",
     "text": [
      "CSV file 'asteroid_data.csv' has been created successfully!\n"
     ]
    }
   ],
   "source": [
    "# API key and URL (NASA NEO API for asteroid data)\n",
    "api_key = \"wpjAsnktWXBoOL12sGVIsZzfNXiquGGsTgeSnPgG\"\n",
    "url = f\"https://api.nasa.gov/neo/rest/v1/feed?start_date=2023-10-01&end_date=2023-10-07&api_key={api_key}\"\n",
    "\n",
    "# Make the API call\n",
    "response = requests.get(url)\n",
    "\n",
    "# Convert the response to JSON format\n",
    "data = response.json()\n",
    "\n",
    "# Extract the 'near_earth_objects' dictionary from the JSON\n",
    "near_earth_objects = data['near_earth_objects']\n",
    "\n",
    "# Create a list to store processed asteroid data\n",
    "asteroid_data = []\n",
    "\n",
    "# Loop through each date's asteroids\n",
    "for date in near_earth_objects:\n",
    "    for asteroid in near_earth_objects[date]:\n",
    "        asteroid_id = asteroid.get('id')\n",
    "        asteroid_name = asteroid.get('name')\n",
    "        absolute_magnitude = asteroid.get('absolute_magnitude_h')\n",
    "\n",
    "        # Get the minimal estimated diameter (in kilometers)\n",
    "        diameter_data = asteroid.get('estimated_diameter', {}).get('kilometers', {})\n",
    "        min_diameter = diameter_data.get('estimated_diameter_min')\n",
    "\n",
    "        # Get the relative velocity (in km/s) from close approach data\n",
    "        close_approach_data = asteroid.get('close_approach_data', [])\n",
    "        if close_approach_data:\n",
    "            relative_velocity = close_approach_data[0].get('relative_velocity', {}).get('kilometers_per_second')\n",
    "        else:\n",
    "            relative_velocity = None\n",
    "\n",
    "        # Append the data to the list\n",
    "        asteroid_data.append([asteroid_id, asteroid_name, min_diameter, absolute_magnitude, relative_velocity])\n",
    "\n",
    "# Create a pandas DataFrame from the asteroid data\n",
    "df = pd.DataFrame(asteroid_data, columns=['Asteroid ID', 'Asteroid Name', 'Minimal Estimated Diameter (km)', 'Absolute Magnitude', 'Relative Velocity (km/s)'])\n",
    "\n",
    "\n",
    "# Export the DataFrame to a CSV file\n",
    "csv_filename = 'asteroid_data.csv'\n",
    "df.to_csv(csv_filename, index=False)\n",
    "\n",
    "print(f\"CSV file '{csv_filename}' has been created successfully!\")\n"
   ]
  },
  {
   "cell_type": "code",
   "execution_count": 13,
   "id": "3d9a0ad2-8a3f-4205-970d-feb41f45e4f7",
   "metadata": {},
   "outputs": [],
   "source": [
    "asteroid_df = pd.read_csv(\"asteroid_data.csv\")"
   ]
  },
  {
   "cell_type": "code",
   "execution_count": 15,
   "id": "f0fc89ba-6975-497b-b22b-40a58976f925",
   "metadata": {},
   "outputs": [
    {
     "data": {
      "text/html": [
       "<div>\n",
       "<style scoped>\n",
       "    .dataframe tbody tr th:only-of-type {\n",
       "        vertical-align: middle;\n",
       "    }\n",
       "\n",
       "    .dataframe tbody tr th {\n",
       "        vertical-align: top;\n",
       "    }\n",
       "\n",
       "    .dataframe thead th {\n",
       "        text-align: right;\n",
       "    }\n",
       "</style>\n",
       "<table border=\"1\" class=\"dataframe\">\n",
       "  <thead>\n",
       "    <tr style=\"text-align: right;\">\n",
       "      <th></th>\n",
       "      <th>Asteroid ID</th>\n",
       "      <th>Asteroid Name</th>\n",
       "      <th>Minimal Estimated Diameter (km)</th>\n",
       "      <th>Absolute Magnitude</th>\n",
       "      <th>Relative Velocity (km/s)</th>\n",
       "    </tr>\n",
       "  </thead>\n",
       "  <tbody>\n",
       "    <tr>\n",
       "      <th>0</th>\n",
       "      <td>2137084</td>\n",
       "      <td>137084 (1998 XS16)</td>\n",
       "      <td>1.344482</td>\n",
       "      <td>16.48</td>\n",
       "      <td>18.020338</td>\n",
       "    </tr>\n",
       "    <tr>\n",
       "      <th>1</th>\n",
       "      <td>2252399</td>\n",
       "      <td>252399 (2001 TX44)</td>\n",
       "      <td>0.348783</td>\n",
       "      <td>19.41</td>\n",
       "      <td>13.173765</td>\n",
       "    </tr>\n",
       "    <tr>\n",
       "      <th>2</th>\n",
       "      <td>3342645</td>\n",
       "      <td>(2006 SG7)</td>\n",
       "      <td>0.071871</td>\n",
       "      <td>22.84</td>\n",
       "      <td>11.207452</td>\n",
       "    </tr>\n",
       "    <tr>\n",
       "      <th>3</th>\n",
       "      <td>3451020</td>\n",
       "      <td>(2009 EG3)</td>\n",
       "      <td>0.145397</td>\n",
       "      <td>21.31</td>\n",
       "      <td>19.749447</td>\n",
       "    </tr>\n",
       "    <tr>\n",
       "      <th>4</th>\n",
       "      <td>3606252</td>\n",
       "      <td>(2012 OO)</td>\n",
       "      <td>0.197950</td>\n",
       "      <td>20.64</td>\n",
       "      <td>9.442147</td>\n",
       "    </tr>\n",
       "  </tbody>\n",
       "</table>\n",
       "</div>"
      ],
      "text/plain": [
       "   Asteroid ID       Asteroid Name  Minimal Estimated Diameter (km)  \\\n",
       "0      2137084  137084 (1998 XS16)                         1.344482   \n",
       "1      2252399  252399 (2001 TX44)                         0.348783   \n",
       "2      3342645          (2006 SG7)                         0.071871   \n",
       "3      3451020          (2009 EG3)                         0.145397   \n",
       "4      3606252           (2012 OO)                         0.197950   \n",
       "\n",
       "   Absolute Magnitude  Relative Velocity (km/s)  \n",
       "0               16.48                 18.020338  \n",
       "1               19.41                 13.173765  \n",
       "2               22.84                 11.207452  \n",
       "3               21.31                 19.749447  \n",
       "4               20.64                  9.442147  "
      ]
     },
     "execution_count": 15,
     "metadata": {},
     "output_type": "execute_result"
    }
   ],
   "source": [
    "asteroid_df.head()"
   ]
  },
  {
   "cell_type": "code",
   "execution_count": 16,
   "id": "87061988-1f91-4780-995f-17530240360f",
   "metadata": {},
   "outputs": [
    {
     "name": "stdout",
     "output_type": "stream",
     "text": [
      "<class 'pandas.core.frame.DataFrame'>\n",
      "RangeIndex: 185 entries, 0 to 184\n",
      "Data columns (total 5 columns):\n",
      " #   Column                           Non-Null Count  Dtype  \n",
      "---  ------                           --------------  -----  \n",
      " 0   Asteroid ID                      185 non-null    int64  \n",
      " 1   Asteroid Name                    185 non-null    object \n",
      " 2   Minimal Estimated Diameter (km)  185 non-null    float64\n",
      " 3   Absolute Magnitude               185 non-null    float64\n",
      " 4   Relative Velocity (km/s)         185 non-null    float64\n",
      "dtypes: float64(3), int64(1), object(1)\n",
      "memory usage: 7.4+ KB\n"
     ]
    }
   ],
   "source": [
    "asteroid_df.info()"
   ]
  }
 ],
 "metadata": {
  "kernelspec": {
   "display_name": "Python 3 (ipykernel)",
   "language": "python",
   "name": "python3"
  },
  "language_info": {
   "codemirror_mode": {
    "name": "ipython",
    "version": 3
   },
   "file_extension": ".py",
   "mimetype": "text/x-python",
   "name": "python",
   "nbconvert_exporter": "python",
   "pygments_lexer": "ipython3",
   "version": "3.12.4"
  }
 },
 "nbformat": 4,
 "nbformat_minor": 5
}
