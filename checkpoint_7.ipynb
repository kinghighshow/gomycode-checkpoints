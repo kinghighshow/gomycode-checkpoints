{
 "cells": [
  {
   "cell_type": "code",
   "execution_count": 82,
   "id": "d16a3e4b-ec2c-4178-91b0-25f6490d8bbb",
   "metadata": {},
   "outputs": [
    {
     "name": "stdin",
     "output_type": "stream",
     "text": [
      "What size of pizza do you want? (Small(S)/Medium(M)/Large(L)):  L\n"
     ]
    },
    {
     "name": "stdout",
     "output_type": "stream",
     "text": [
      "Pizza only bill: $25\n"
     ]
    },
    {
     "name": "stdin",
     "output_type": "stream",
     "text": [
      "\n",
      "\n",
      "Do you want Pepperoni with it? Yes(Y)/ No(N):  Y\n"
     ]
    },
    {
     "name": "stdout",
     "output_type": "stream",
     "text": [
      "Pizza and pepperoni bill: $28\n"
     ]
    },
    {
     "name": "stdin",
     "output_type": "stream",
     "text": [
      "\n",
      "\n",
      "Do you want Extra? Yes(Y)/ No(N):  N\n"
     ]
    },
    {
     "name": "stdout",
     "output_type": "stream",
     "text": [
      "\n",
      "\n",
      "Your final bill is: $28\n"
     ]
    }
   ],
   "source": [
    "\"\"\" Small Pizza: $15 \n",
    "    Medium Pizza: $20 \n",
    "    Large Pizza: $25  \n",
    "\n",
    "If they want to add pepperoni :\n",
    "\n",
    "Pepperoni for Small Pizza: +$2 \n",
    "\n",
    "Pepperoni for Medium or Large Pizza: +$3\n",
    "\n",
    "If they want cheese :\n",
    "\n",
    "Extra cheese for any size pizza: + $1 \"\"\"\n",
    "\n",
    "\n",
    "'Welcome to Python Pizza Deliveries\\n\\n' \n",
    "Bill = 0\n",
    "while True:\n",
    "    size = input('What size of pizza do you want? (Small(S)/Medium(M)/Large(L)): ')\n",
    "\n",
    "    if size.upper() == \"S\":\n",
    "        Bill += 15\n",
    "        print(f\"Pizza only bill: ${Bill}\")\n",
    "        break\n",
    "    elif size.upper() == \"M\":\n",
    "        Bill += 20\n",
    "        print(f\"Pizza only bill: ${Bill}\")\n",
    "        break\n",
    "    elif size.upper() == \"L\":\n",
    "        Bill += 25\n",
    "        print(f\"Pizza only bill: ${Bill}\")\n",
    "        break\n",
    "    else:\n",
    "        print(\"Invalid entry. Please insert S, M, or L.\")\n",
    "        \n",
    "    \n",
    "while True:\n",
    "    add_pepperoni = input(\"\\n\\nDo you want Pepperoni with it? Yes(Y)/ No(N): \")\n",
    "    \n",
    "    if add_pepperoni.upper() == \"Y\":\n",
    "        if size.upper() == \"S\":\n",
    "            Bill += 2\n",
    "            print(f\"Pizza and pepperoni bill: ${Bill}\")\n",
    "            break\n",
    "        elif size.upper() == \"M\":\n",
    "            Bill += 3\n",
    "            print(f\"Pizza and pepperoni bill: ${Bill}\")\n",
    "            break\n",
    "        elif size.upper() == \"L\":\n",
    "            Bill += 3\n",
    "            print(f\"Pizza and pepperoni bill: ${Bill}\")\n",
    "            break\n",
    "        \n",
    "    elif add_pepperoni.upper() == \"N\":\n",
    "        Bill += 0\n",
    "        break\n",
    "    else:\n",
    "         print(\"Invalid entry. Please insert Y or N\")\n",
    "\n",
    "while True:   \n",
    "    extra_cheese = input(\"\\n\\nDo you want Extra? Yes(Y)/ No(N): \")\n",
    "        \n",
    "    if extra_cheese.upper() == \"Y\":\n",
    "        Bill += 1\n",
    "        print(f\"Pizza and pepperoni with extra cheese bill: ${Bill}\")\n",
    "        break\n",
    "    elif extra_cheese.upper() == \"N\":\n",
    "        Bill += 0\n",
    "        break\n",
    "    \n",
    "    else:\n",
    "         print(\"Invalid entry. Please insert Y or N.\")\n",
    "\n",
    "print(f\"\\n\\nYour final bill is: ${Bill}\")"
   ]
  },
  {
   "cell_type": "code",
   "execution_count": null,
   "id": "a3c2793f-d8a8-4d2a-8c2b-fa52f3391c51",
   "metadata": {},
   "outputs": [],
   "source": []
  }
 ],
 "metadata": {
  "kernelspec": {
   "display_name": "Python 3 (ipykernel)",
   "language": "python",
   "name": "python3"
  },
  "language_info": {
   "codemirror_mode": {
    "name": "ipython",
    "version": 3
   },
   "file_extension": ".py",
   "mimetype": "text/x-python",
   "name": "python",
   "nbconvert_exporter": "python",
   "pygments_lexer": "ipython3",
   "version": "3.11.7"
  }
 },
 "nbformat": 4,
 "nbformat_minor": 5
}
