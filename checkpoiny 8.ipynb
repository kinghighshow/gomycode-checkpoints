{
 "cells": [
  {
   "cell_type": "code",
   "execution_count": 2,
   "id": "bbd59e64-d33a-4937-9cc7-84fcb05e6aa9",
   "metadata": {},
   "outputs": [
    {
     "name": "stdout",
     "output_type": "stream",
     "text": [
      "What would you like to do today? \n",
      "1. Add to your shopping list \n",
      "2. Remove an item from your shopping list \n",
      "3. View items in your shopping list \n",
      "4. Exit\n"
     ]
    },
    {
     "name": "stdin",
     "output_type": "stream",
     "text": [
      "Pick an option between 1 and 4:  3\n"
     ]
    },
    {
     "name": "stdout",
     "output_type": "stream",
     "text": [
      "Shopping List:\n",
      "awefsd\n"
     ]
    },
    {
     "name": "stdin",
     "output_type": "stream",
     "text": [
      "Pick an option between 1 and 4:  1\n",
      "Enter an item to add:  34\n"
     ]
    },
    {
     "name": "stdout",
     "output_type": "stream",
     "text": [
      "34 added.\n"
     ]
    }
   ],
   "source": [
    "shopping_list = []\n",
    "\n",
    "def manage_shopping_list():\n",
    "    print(\"What would you like to do today? \\n1. Add to your shopping list \\n2. Remove an item from your shopping list \\n3. View items in your shopping list \\n4. Exit\")\n",
    "    \n",
    "    while True:\n",
    "        choice = int(input(\"Pick an option between 1 and 4: \"))\n",
    "        if choice == 1:\n",
    "            if len(shopping_list) < 10:\n",
    "                item_to_add = input(\"Enter an item to add: \")\n",
    "                shopping_list.append(item_to_add)\n",
    "                print(f\"{item_to_add} added.\")\n",
    "                break\n",
    "            else:\n",
    "                print(\"You can't add more than 10 items.\")\n",
    "    \n",
    "        elif choice == 2:\n",
    "            item_to_remove = input(\"Enter an item to remove: \")\n",
    "            if item_to_remove in shopping_list:\n",
    "                shopping_list.remove(item_to_remove)\n",
    "                print(f\"{item_to_remove} removed.\")\n",
    "                break\n",
    "            else:\n",
    "                print(f\"{item_to_remove} not found in the list.\")\n",
    "        \n",
    "        elif choice == 3:        \n",
    "            print(\"Shopping List:\")\n",
    "            for item in shopping_list:\n",
    "                print(item)\n",
    "                break\n",
    "            \n",
    "        elif choice == 4:\n",
    "            print(\"Goodbye\")\n",
    "            break\n",
    "        \n",
    "        else:\n",
    "            print(\"Invalid option, please choose from 1-4.\")\n",
    "\n",
    "manage_shopping_list()"
   ]
  },
  {
   "cell_type": "code",
   "execution_count": null,
   "id": "1de95908-0854-4417-b746-66fc12114c4f",
   "metadata": {},
   "outputs": [],
   "source": []
  }
 ],
 "metadata": {
  "kernelspec": {
   "display_name": "Python 3 (ipykernel)",
   "language": "python",
   "name": "python3"
  },
  "language_info": {
   "codemirror_mode": {
    "name": "ipython",
    "version": 3
   },
   "file_extension": ".py",
   "mimetype": "text/x-python",
   "name": "python",
   "nbconvert_exporter": "python",
   "pygments_lexer": "ipython3",
   "version": "3.11.7"
  }
 },
 "nbformat": 4,
 "nbformat_minor": 5
}
