{
 "cells": [
  {
   "cell_type": "code",
   "execution_count": 43,
   "id": "ad408c37-2ac6-4d00-abf1-a1ea807909c7",
   "metadata": {},
   "outputs": [
    {
     "name": "stdout",
     "output_type": "stream",
     "text": [
      "Welcome to Python Pizza Deliveries\n"
     ]
    },
    {
     "name": "stdin",
     "output_type": "stream",
     "text": [
      "What size of pizza do you want? (Small(S)/Medium(M)/Large(L)): s\n",
      "Do want pepperoni on your pizza? (yes(Y)/no(N)): y\n",
      "Do you want extra cheese on you pizza (yes(Y)/no(N)): ? n\n"
     ]
    },
    {
     "name": "stdout",
     "output_type": "stream",
     "text": [
      "Your total bill is $17\n"
     ]
    }
   ],
   "source": [
    "\"\"\" Small Pizza: $15 \n",
    "    Medium Pizza: $20 \n",
    "    Large Pizza: $25  \n",
    "\n",
    "If they want to add pepperoni :\n",
    "\n",
    "Pepperoni for Small Pizza: +$2 \n",
    "\n",
    "Pepperoni for Medium or Large Pizza: +$3\n",
    "\n",
    "If they want cheese :\n",
    "\n",
    "Extra cheese for any size pizza: + $1 \"\"\"\n",
    "\n",
    "\n",
    "\n",
    "print('Welcome to Python Pizza Deliveries')\n",
    "\n",
    "size = input('What size of pizza do you want? (Small(S)/Medium(M)/Large(L)):')\n",
    "\n",
    "if size.upper() == \"S\":\n",
    "    cost = 15\n",
    "elif size.upper() == \"M\":\n",
    "    cost = 20\n",
    "elif size.upper() == \"L\":\n",
    "    cost = 25\n",
    "else:\n",
    "    print(\"not a valid entry\")\n",
    "add_pepperoni = input('Do want pepperoni on your pizza? (yes(Y)/no(N)):')\n",
    "\n",
    "if add_pepperoni.upper() == \"Y\":\n",
    "    if size.upper() == \"S\":\n",
    "        cost += 2\n",
    "    else:\n",
    "        cost += 3\n",
    "        \n",
    "extra_cheese = input('Do you want extra cheese on you pizza (yes(Y)/no(N)): ?')\n",
    "\n",
    "if extra_cheese.upper() == \"Y\":\n",
    "    cost += 1\n",
    "    \n",
    "print(f\"Your total bill is ${cost}\")"
   ]
  }
 ],
 "metadata": {
  "kernelspec": {
   "display_name": "Python 3 (ipykernel)",
   "language": "python",
   "name": "python3"
  },
  "language_info": {
   "codemirror_mode": {
    "name": "ipython",
    "version": 3
   },
   "file_extension": ".py",
   "mimetype": "text/x-python",
   "name": "python",
   "nbconvert_exporter": "python",
   "pygments_lexer": "ipython3",
   "version": "3.11.7"
  }
 },
 "nbformat": 4,
 "nbformat_minor": 5
}
