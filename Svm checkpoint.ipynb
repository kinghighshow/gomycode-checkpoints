{
 "cells": [
  {
   "cell_type": "markdown",
   "id": "49f99fb7-205a-4fc0-9cf7-55a1badd1a90",
   "metadata": {},
   "source": [
    "## What You're Aiming For\n",
    "\n",
    "In this checkpoint, we are going to work on the 'Electric Vehicle Data' dataset that was provided by Kaggle as part of the Electric Vehicle Price Prediction competition.\n",
    "\n",
    "Dataset description: This dataset contains information on the Battery Electric Vehicles (BEVs) and Plug-in Hybrid Electric Vehicles (PHEVs) that are currently registered with the Washington State Department of Licensing (DOL). This dataset was introduced as part of an official invitation-based competition on Kaggle. Our SVM model should answer the question \"This is my car's model & make, along with a few other parameters, what price can this vehicle be brought or sold?”"
   ]
  },
  {
   "cell_type": "markdown",
   "id": "18cc89de-f431-4344-a6c9-4d5013ad42d0",
   "metadata": {},
   "source": [
    "### Instructions\n",
    "\n",
    "- Import you data and perform basic data exploration phase\n",
    "- Display general information about the dataset\n",
    "- Create a pandas profiling reports to gain insights into the dataset\n",
    "- Handle Missing and corrupted values\n",
    "- Remove duplicates, if they exist\n",
    "- Handle outliers, if they exist\n",
    "- Encode categorical features\n",
    "- Select your target variable and the features\n",
    "- Split your dataset to training and test sets\n",
    "- Build and train an SVM model on the training set\n",
    "- Assess your model performance on the test set using relevant evaluation metrics\n",
    "- Discuss with your cohort alternative ways to improve your model performance"
   ]
  },
  {
   "cell_type": "code",
   "execution_count": 97,
   "id": "64567d4f-2897-4b3a-b6a0-c4314311b7e2",
   "metadata": {},
   "outputs": [],
   "source": [
    "import warnings\n",
    "warnings.filterwarnings(\"ignore\")"
   ]
  },
  {
   "cell_type": "code",
   "execution_count": 99,
   "id": "8df85c15-8490-4e57-81f2-927d74cd8389",
   "metadata": {},
   "outputs": [],
   "source": [
    "pd.set_option(\"display.max_columns\", None)\n",
    "pd.set_option(\"display.max_rows\", None)"
   ]
  },
  {
   "cell_type": "code",
   "execution_count": 1,
   "id": "c73f15e3-c381-4da3-ae19-27acee74b1f7",
   "metadata": {},
   "outputs": [],
   "source": [
    "import pandas as pd\n",
    "import numpy as np \n",
    "\n",
    "#import standard visualization\n",
    "import matplotlib.pyplot as plt\n",
    "import seaborn as sns\n",
    "\n",
    "#import machine learning\n",
    "\n",
    "from sklearn.svm import SVR\n",
    "\n",
    "from sklearn.model_selection import train_test_split #split\n",
    "from sklearn.metrics import accuracy_score #metrics\n",
    "\n",
    "#tools for hyperparameters search\n",
    "from sklearn.model_selection import StratifiedKFold\n",
    "from sklearn.model_selection import RandomizedSearchCV, GridSearchCV\n",
    "from sklearn.metrics import mean_squared_error, r2_score, make_scorer  # For model evaluation metrics\n",
    "from sklearn.model_selection import GridSearchCV\n",
    "\n",
    "# import the label Encoder library \n",
    "from sklearn.preprocessing import LabelEncoder\n",
    "label_encoder = LabelEncoder()\n",
    "from sklearn.preprocessing import StandardScaler"
   ]
  },
  {
   "cell_type": "code",
   "execution_count": 2,
   "id": "648c49a9-23bd-4e89-9fcc-c374bc714902",
   "metadata": {},
   "outputs": [],
   "source": [
    "df = pd.read_csv(\"Electric_cars_dataset.csv\")"
   ]
  },
  {
   "cell_type": "code",
   "execution_count": null,
   "id": "6cafa0fd-fcb8-4cb5-915e-6ca7f612dd8b",
   "metadata": {},
   "outputs": [],
   "source": [
    "df.head(2)"
   ]
  },
  {
   "cell_type": "code",
   "execution_count": 112,
   "id": "5db4f379-b0d2-4141-8e30-d18e2c29be4a",
   "metadata": {},
   "outputs": [
    {
     "name": "stdout",
     "output_type": "stream",
     "text": [
      "<class 'pandas.core.frame.DataFrame'>\n",
      "Index: 64329 entries, 0 to 64352\n",
      "Data columns (total 14 columns):\n",
      " #   Column                                             Non-Null Count  Dtype  \n",
      "---  ------                                             --------------  -----  \n",
      " 0   County                                             64325 non-null  object \n",
      " 1   City                                               64320 non-null  object \n",
      " 2   State                                              64329 non-null  object \n",
      " 3   Model Year                                         64322 non-null  float64\n",
      " 4   Make                                               64325 non-null  object \n",
      " 5   Model                                              64329 non-null  object \n",
      " 6   Electric Vehicle Type                              64329 non-null  object \n",
      " 7   Clean Alternative Fuel Vehicle (CAFV) Eligibility  64329 non-null  object \n",
      " 8   Electric Range                                     64329 non-null  int64  \n",
      " 9   Base MSRP                                          64329 non-null  int64  \n",
      " 10  Legislative District                               64161 non-null  float64\n",
      " 11  DOL Vehicle ID                                     64329 non-null  int64  \n",
      " 12  Vehicle Location                                   63820 non-null  object \n",
      " 13  Expected Price ($1k)                               64329 non-null  float64\n",
      "dtypes: float64(3), int64(3), object(8)\n",
      "memory usage: 7.4+ MB\n"
     ]
    }
   ],
   "source": [
    "df.info()"
   ]
  },
  {
   "cell_type": "code",
   "execution_count": 104,
   "id": "d9cb1fb2-ae41-4c88-8e11-8ee50ba241be",
   "metadata": {},
   "outputs": [
    {
     "data": {
      "text/html": [
       "<div>\n",
       "<style scoped>\n",
       "    .dataframe tbody tr th:only-of-type {\n",
       "        vertical-align: middle;\n",
       "    }\n",
       "\n",
       "    .dataframe tbody tr th {\n",
       "        vertical-align: top;\n",
       "    }\n",
       "\n",
       "    .dataframe thead th {\n",
       "        text-align: right;\n",
       "    }\n",
       "</style>\n",
       "<table border=\"1\" class=\"dataframe\">\n",
       "  <thead>\n",
       "    <tr style=\"text-align: right;\">\n",
       "      <th></th>\n",
       "      <th>count</th>\n",
       "      <th>mean</th>\n",
       "      <th>std</th>\n",
       "      <th>min</th>\n",
       "      <th>25%</th>\n",
       "      <th>50%</th>\n",
       "      <th>75%</th>\n",
       "      <th>max</th>\n",
       "    </tr>\n",
       "  </thead>\n",
       "  <tbody>\n",
       "    <tr>\n",
       "      <th>ZIP Code</th>\n",
       "      <td>64347.0</td>\n",
       "      <td>9.814345e+04</td>\n",
       "      <td>2.856064e+03</td>\n",
       "      <td>745.0</td>\n",
       "      <td>98052.0</td>\n",
       "      <td>98121.0</td>\n",
       "      <td>98370.0</td>\n",
       "      <td>99701.0</td>\n",
       "    </tr>\n",
       "    <tr>\n",
       "      <th>Model Year</th>\n",
       "      <td>64346.0</td>\n",
       "      <td>2.018186e+03</td>\n",
       "      <td>2.726742e+00</td>\n",
       "      <td>1993.0</td>\n",
       "      <td>2017.0</td>\n",
       "      <td>2018.0</td>\n",
       "      <td>2021.0</td>\n",
       "      <td>2022.0</td>\n",
       "    </tr>\n",
       "    <tr>\n",
       "      <th>Electric Range</th>\n",
       "      <td>64353.0</td>\n",
       "      <td>1.069490e+02</td>\n",
       "      <td>1.040939e+02</td>\n",
       "      <td>0.0</td>\n",
       "      <td>14.0</td>\n",
       "      <td>73.0</td>\n",
       "      <td>215.0</td>\n",
       "      <td>337.0</td>\n",
       "    </tr>\n",
       "    <tr>\n",
       "      <th>Base MSRP</th>\n",
       "      <td>64353.0</td>\n",
       "      <td>2.524991e+03</td>\n",
       "      <td>1.240290e+04</td>\n",
       "      <td>0.0</td>\n",
       "      <td>0.0</td>\n",
       "      <td>0.0</td>\n",
       "      <td>0.0</td>\n",
       "      <td>845000.0</td>\n",
       "    </tr>\n",
       "    <tr>\n",
       "      <th>Legislative District</th>\n",
       "      <td>64184.0</td>\n",
       "      <td>2.995190e+01</td>\n",
       "      <td>1.466112e+01</td>\n",
       "      <td>0.0</td>\n",
       "      <td>19.0</td>\n",
       "      <td>34.0</td>\n",
       "      <td>43.0</td>\n",
       "      <td>49.0</td>\n",
       "    </tr>\n",
       "    <tr>\n",
       "      <th>DOL Vehicle ID</th>\n",
       "      <td>64353.0</td>\n",
       "      <td>1.972905e+08</td>\n",
       "      <td>1.069466e+08</td>\n",
       "      <td>4385.0</td>\n",
       "      <td>137286488.0</td>\n",
       "      <td>175377597.0</td>\n",
       "      <td>229903894.0</td>\n",
       "      <td>478934571.0</td>\n",
       "    </tr>\n",
       "  </tbody>\n",
       "</table>\n",
       "</div>"
      ],
      "text/plain": [
       "                        count          mean           std     min  \\\n",
       "ZIP Code              64347.0  9.814345e+04  2.856064e+03   745.0   \n",
       "Model Year            64346.0  2.018186e+03  2.726742e+00  1993.0   \n",
       "Electric Range        64353.0  1.069490e+02  1.040939e+02     0.0   \n",
       "Base MSRP             64353.0  2.524991e+03  1.240290e+04     0.0   \n",
       "Legislative District  64184.0  2.995190e+01  1.466112e+01     0.0   \n",
       "DOL Vehicle ID        64353.0  1.972905e+08  1.069466e+08  4385.0   \n",
       "\n",
       "                              25%          50%          75%          max  \n",
       "ZIP Code                  98052.0      98121.0      98370.0      99701.0  \n",
       "Model Year                 2017.0       2018.0       2021.0       2022.0  \n",
       "Electric Range               14.0         73.0        215.0        337.0  \n",
       "Base MSRP                     0.0          0.0          0.0     845000.0  \n",
       "Legislative District         19.0         34.0         43.0         49.0  \n",
       "DOL Vehicle ID        137286488.0  175377597.0  229903894.0  478934571.0  "
      ]
     },
     "execution_count": 104,
     "metadata": {},
     "output_type": "execute_result"
    }
   ],
   "source": [
    "df.describe().T"
   ]
  },
  {
   "cell_type": "code",
   "execution_count": 128,
   "id": "2ba09630-892a-498c-8b1e-7265c6045d5e",
   "metadata": {},
   "outputs": [
    {
     "data": {
      "text/plain": [
       "County                                               0\n",
       "City                                                 0\n",
       "State                                                0\n",
       "Model Year                                           0\n",
       "Make                                                 0\n",
       "Model                                                0\n",
       "Electric Vehicle Type                                0\n",
       "Clean Alternative Fuel Vehicle (CAFV) Eligibility    0\n",
       "Electric Range                                       0\n",
       "Base MSRP                                            0\n",
       "DOL Vehicle ID                                       0\n",
       "Expected Price ($1k)                                 0\n",
       "dtype: int64"
      ]
     },
     "execution_count": 128,
     "metadata": {},
     "output_type": "execute_result"
    }
   ],
   "source": [
    "df.isnull().sum()"
   ]
  },
  {
   "cell_type": "code",
   "execution_count": 3,
   "id": "2e3a361a-1adf-4707-9849-e1b031a36c27",
   "metadata": {},
   "outputs": [],
   "source": [
    "df.dropna(subset=['County'], inplace=True)"
   ]
  },
  {
   "cell_type": "code",
   "execution_count": 4,
   "id": "d7364556-9119-4b7d-98fe-2e19d0f2c044",
   "metadata": {},
   "outputs": [],
   "source": [
    "df.dropna(subset=['City'], inplace=True)"
   ]
  },
  {
   "cell_type": "code",
   "execution_count": 5,
   "id": "13e46d5f-b375-4401-a41d-4b8be123893d",
   "metadata": {},
   "outputs": [],
   "source": [
    "df.dropna(subset=['State'], inplace=True)"
   ]
  },
  {
   "cell_type": "code",
   "execution_count": 6,
   "id": "ac51f2b3-d741-485f-9c39-54f8c4f590ad",
   "metadata": {},
   "outputs": [],
   "source": [
    "df.dropna(subset=['Model'], inplace=True)"
   ]
  },
  {
   "cell_type": "code",
   "execution_count": 7,
   "id": "919e0434-fbdf-42f1-a471-a8f56abcc658",
   "metadata": {},
   "outputs": [],
   "source": [
    "df.dropna(subset=['Make'], inplace=True)"
   ]
  },
  {
   "cell_type": "code",
   "execution_count": 8,
   "id": "f1bb8ee6-eac8-4040-b637-37606b3ca88a",
   "metadata": {},
   "outputs": [],
   "source": [
    "df.dropna(subset=['Model Year'], inplace=True)"
   ]
  },
  {
   "cell_type": "code",
   "execution_count": 9,
   "id": "42b41360-e58a-43f2-8ca2-98237db33d6f",
   "metadata": {},
   "outputs": [],
   "source": [
    "df['Expected Price ($1k)'] = pd.to_numeric(df['Expected Price ($1k)'], errors='coerce')"
   ]
  },
  {
   "cell_type": "code",
   "execution_count": null,
   "id": "48010ddf-592b-44bf-af32-178bd090205a",
   "metadata": {},
   "outputs": [],
   "source": [
    "df[\"County\"].value_counts()"
   ]
  },
  {
   "cell_type": "code",
   "execution_count": null,
   "id": "2c96bb3e-bcf5-4bd8-b3c4-f174b53701dd",
   "metadata": {},
   "outputs": [],
   "source": [
    "df[\"City\"].value_counts()"
   ]
  },
  {
   "cell_type": "code",
   "execution_count": null,
   "id": "5f7d5a0e-526f-4e66-9f22-f4a3cbb8fa87",
   "metadata": {},
   "outputs": [],
   "source": [
    "df[\"Expected Price ($1k)\"].value_counts()"
   ]
  },
  {
   "cell_type": "code",
   "execution_count": null,
   "id": "3c747a77-af60-45e8-bae9-efecde0f85a9",
   "metadata": {},
   "outputs": [],
   "source": [
    "df[\"Electric Vehicle Type\"].value_counts()"
   ]
  },
  {
   "cell_type": "code",
   "execution_count": null,
   "id": "b2fb8a88-7b46-41ba-a5fd-6d48aa26df9e",
   "metadata": {},
   "outputs": [],
   "source": [
    "df['Model'].value_counts()"
   ]
  },
  {
   "cell_type": "code",
   "execution_count": 27,
   "id": "a3de8d8b-67ad-4f39-88e2-a7ce8ee1ec2b",
   "metadata": {},
   "outputs": [
    {
     "data": {
      "text/plain": [
       "Clean Alternative Fuel Vehicle (CAFV) Eligibility\n",
       "Clean Alternative Fuel Vehicle Eligible                         39915\n",
       "Eligibility unknown as battery range has not been researched    14934\n",
       "Not eligible due to low battery range                            9456\n",
       "Name: count, dtype: int64"
      ]
     },
     "execution_count": 27,
     "metadata": {},
     "output_type": "execute_result"
    }
   ],
   "source": [
    "df[\"Clean Alternative Fuel Vehicle (CAFV) Eligibility\"].value_counts()"
   ]
  },
  {
   "cell_type": "code",
   "execution_count": null,
   "id": "3c7ec421-638f-4db5-a9f2-baa63bc58f81",
   "metadata": {},
   "outputs": [],
   "source": [
    "df[\"Make\"].value_counts()"
   ]
  },
  {
   "cell_type": "code",
   "execution_count": null,
   "id": "0fa43f44-4206-465a-8418-8bc688815fb8",
   "metadata": {
    "scrolled": true
   },
   "outputs": [],
   "source": [
    "df[df[\"County\"].isna()]"
   ]
  },
  {
   "cell_type": "code",
   "execution_count": 11,
   "id": "f9b36843-fcda-4668-88f7-be922652b527",
   "metadata": {},
   "outputs": [],
   "source": [
    "df[\"County\"].dropna(inplace = True)"
   ]
  },
  {
   "cell_type": "code",
   "execution_count": 12,
   "id": "1ae0d467-0e5f-4af8-bc9c-60c72dff0613",
   "metadata": {},
   "outputs": [],
   "source": [
    "df.drop('ID', axis=1, inplace=True)\n",
    "df.drop('VIN (1-10)', axis=1, inplace=True)\n",
    "df.drop('ZIP Code', axis=1, inplace=True)\n",
    "df.drop('Electric Utility', axis=1, inplace=True)\n",
    "df.drop('Vehicle Location', axis=1, inplace=True)\n",
    "df.drop('Legislative District', axis=1, inplace=True)"
   ]
  },
  {
   "cell_type": "code",
   "execution_count": null,
   "id": "14520120-b593-4d14-a609-a94d5eee53b1",
   "metadata": {},
   "outputs": [],
   "source": [
    "numerical_features = df.select_dtypes(include='number').columns\n",
    "numerical_features"
   ]
  },
  {
   "cell_type": "code",
   "execution_count": 29,
   "id": "1e5f3c47-82ef-40e2-a5f9-afc998a534de",
   "metadata": {},
   "outputs": [
    {
     "data": {
      "text/html": [
       "<div>\n",
       "<style scoped>\n",
       "    .dataframe tbody tr th:only-of-type {\n",
       "        vertical-align: middle;\n",
       "    }\n",
       "\n",
       "    .dataframe tbody tr th {\n",
       "        vertical-align: top;\n",
       "    }\n",
       "\n",
       "    .dataframe thead th {\n",
       "        text-align: right;\n",
       "    }\n",
       "</style>\n",
       "<table border=\"1\" class=\"dataframe\">\n",
       "  <thead>\n",
       "    <tr style=\"text-align: right;\">\n",
       "      <th></th>\n",
       "      <th>Model Year</th>\n",
       "      <th>Model</th>\n",
       "      <th>Electric Range</th>\n",
       "      <th>Expected Price ($1k)</th>\n",
       "      <th>EV_Type_Battery Electric Vehicle (BEV)</th>\n",
       "      <th>EV_Type_Plug-in Hybrid Electric Vehicle (PHEV)</th>\n",
       "      <th>AUDI</th>\n",
       "      <th>AZURE DYNAMICS</th>\n",
       "      <th>BENTLEY</th>\n",
       "      <th>BMW</th>\n",
       "      <th>...</th>\n",
       "      <th>SUBARU</th>\n",
       "      <th>TESLA</th>\n",
       "      <th>TH!NK</th>\n",
       "      <th>TOYOTA</th>\n",
       "      <th>VOLKSWAGEN</th>\n",
       "      <th>VOLVO</th>\n",
       "      <th>WHEEGO ELECTRIC CARS</th>\n",
       "      <th>Clean Alternative Fuel Vehicle Eligible</th>\n",
       "      <th>Eligibility unknown as battery range has not been researched</th>\n",
       "      <th>Not eligible due to low battery range</th>\n",
       "    </tr>\n",
       "  </thead>\n",
       "  <tbody>\n",
       "    <tr>\n",
       "      <th>0</th>\n",
       "      <td>2020.0</td>\n",
       "      <td>57</td>\n",
       "      <td>308</td>\n",
       "      <td>50.00</td>\n",
       "      <td>True</td>\n",
       "      <td>False</td>\n",
       "      <td>False</td>\n",
       "      <td>False</td>\n",
       "      <td>False</td>\n",
       "      <td>False</td>\n",
       "      <td>...</td>\n",
       "      <td>False</td>\n",
       "      <td>True</td>\n",
       "      <td>False</td>\n",
       "      <td>False</td>\n",
       "      <td>False</td>\n",
       "      <td>False</td>\n",
       "      <td>False</td>\n",
       "      <td>True</td>\n",
       "      <td>False</td>\n",
       "      <td>False</td>\n",
       "    </tr>\n",
       "    <tr>\n",
       "      <th>1</th>\n",
       "      <td>2011.0</td>\n",
       "      <td>53</td>\n",
       "      <td>73</td>\n",
       "      <td>15.00</td>\n",
       "      <td>True</td>\n",
       "      <td>False</td>\n",
       "      <td>False</td>\n",
       "      <td>False</td>\n",
       "      <td>False</td>\n",
       "      <td>False</td>\n",
       "      <td>...</td>\n",
       "      <td>False</td>\n",
       "      <td>False</td>\n",
       "      <td>False</td>\n",
       "      <td>False</td>\n",
       "      <td>False</td>\n",
       "      <td>False</td>\n",
       "      <td>False</td>\n",
       "      <td>True</td>\n",
       "      <td>False</td>\n",
       "      <td>False</td>\n",
       "    </tr>\n",
       "    <tr>\n",
       "      <th>2</th>\n",
       "      <td>2015.0</td>\n",
       "      <td>45</td>\n",
       "      <td>81</td>\n",
       "      <td>18.00</td>\n",
       "      <td>True</td>\n",
       "      <td>False</td>\n",
       "      <td>False</td>\n",
       "      <td>False</td>\n",
       "      <td>False</td>\n",
       "      <td>True</td>\n",
       "      <td>...</td>\n",
       "      <td>False</td>\n",
       "      <td>False</td>\n",
       "      <td>False</td>\n",
       "      <td>False</td>\n",
       "      <td>False</td>\n",
       "      <td>False</td>\n",
       "      <td>False</td>\n",
       "      <td>True</td>\n",
       "      <td>False</td>\n",
       "      <td>False</td>\n",
       "    </tr>\n",
       "    <tr>\n",
       "      <th>3</th>\n",
       "      <td>2013.0</td>\n",
       "      <td>96</td>\n",
       "      <td>38</td>\n",
       "      <td>33.90</td>\n",
       "      <td>False</td>\n",
       "      <td>True</td>\n",
       "      <td>False</td>\n",
       "      <td>False</td>\n",
       "      <td>False</td>\n",
       "      <td>False</td>\n",
       "      <td>...</td>\n",
       "      <td>False</td>\n",
       "      <td>False</td>\n",
       "      <td>False</td>\n",
       "      <td>False</td>\n",
       "      <td>False</td>\n",
       "      <td>False</td>\n",
       "      <td>False</td>\n",
       "      <td>True</td>\n",
       "      <td>False</td>\n",
       "      <td>False</td>\n",
       "    </tr>\n",
       "    <tr>\n",
       "      <th>4</th>\n",
       "      <td>2019.0</td>\n",
       "      <td>15</td>\n",
       "      <td>238</td>\n",
       "      <td>41.78</td>\n",
       "      <td>True</td>\n",
       "      <td>False</td>\n",
       "      <td>False</td>\n",
       "      <td>False</td>\n",
       "      <td>False</td>\n",
       "      <td>False</td>\n",
       "      <td>...</td>\n",
       "      <td>False</td>\n",
       "      <td>False</td>\n",
       "      <td>False</td>\n",
       "      <td>False</td>\n",
       "      <td>False</td>\n",
       "      <td>False</td>\n",
       "      <td>False</td>\n",
       "      <td>True</td>\n",
       "      <td>False</td>\n",
       "      <td>False</td>\n",
       "    </tr>\n",
       "  </tbody>\n",
       "</table>\n",
       "<p>5 rows × 43 columns</p>\n",
       "</div>"
      ],
      "text/plain": [
       "   Model Year  Model  Electric Range  Expected Price ($1k)  \\\n",
       "0      2020.0     57             308                 50.00   \n",
       "1      2011.0     53              73                 15.00   \n",
       "2      2015.0     45              81                 18.00   \n",
       "3      2013.0     96              38                 33.90   \n",
       "4      2019.0     15             238                 41.78   \n",
       "\n",
       "   EV_Type_Battery Electric Vehicle (BEV)  \\\n",
       "0                                    True   \n",
       "1                                    True   \n",
       "2                                    True   \n",
       "3                                   False   \n",
       "4                                    True   \n",
       "\n",
       "   EV_Type_Plug-in Hybrid Electric Vehicle (PHEV)   AUDI  AZURE DYNAMICS  \\\n",
       "0                                           False  False           False   \n",
       "1                                           False  False           False   \n",
       "2                                           False  False           False   \n",
       "3                                            True  False           False   \n",
       "4                                           False  False           False   \n",
       "\n",
       "   BENTLEY    BMW  ...  SUBARU  TESLA  TH!NK  TOYOTA  VOLKSWAGEN  VOLVO  \\\n",
       "0    False  False  ...   False   True  False   False       False  False   \n",
       "1    False  False  ...   False  False  False   False       False  False   \n",
       "2    False   True  ...   False  False  False   False       False  False   \n",
       "3    False  False  ...   False  False  False   False       False  False   \n",
       "4    False  False  ...   False  False  False   False       False  False   \n",
       "\n",
       "   WHEEGO ELECTRIC CARS  Clean Alternative Fuel Vehicle Eligible  \\\n",
       "0                 False                                     True   \n",
       "1                 False                                     True   \n",
       "2                 False                                     True   \n",
       "3                 False                                     True   \n",
       "4                 False                                     True   \n",
       "\n",
       "   Eligibility unknown as battery range has not been researched  \\\n",
       "0                                              False              \n",
       "1                                              False              \n",
       "2                                              False              \n",
       "3                                              False              \n",
       "4                                              False              \n",
       "\n",
       "   Not eligible due to low battery range  \n",
       "0                                  False  \n",
       "1                                  False  \n",
       "2                                  False  \n",
       "3                                  False  \n",
       "4                                  False  \n",
       "\n",
       "[5 rows x 43 columns]"
      ]
     },
     "execution_count": 29,
     "metadata": {},
     "output_type": "execute_result"
    }
   ],
   "source": [
    "df.head()"
   ]
  },
  {
   "cell_type": "code",
   "execution_count": 14,
   "id": "62430610-8f2b-4939-8623-4d8c8ff56f60",
   "metadata": {},
   "outputs": [],
   "source": [
    "df[\"County\"] = label_encoder.fit_transform(df[\"County\"])"
   ]
  },
  {
   "cell_type": "code",
   "execution_count": 15,
   "id": "c957fabc-552d-493c-9b62-93972f6c65dc",
   "metadata": {},
   "outputs": [],
   "source": [
    "df[\"Model\"] = label_encoder.fit_transform(df[\"Model\"])"
   ]
  },
  {
   "cell_type": "code",
   "execution_count": 16,
   "id": "4cdd11f9-e7b7-4584-b9c6-988007a44d58",
   "metadata": {},
   "outputs": [],
   "source": [
    "df[\"City\"] = label_encoder.fit_transform(df[\"City\"])\n",
    "df[\"State\"] = label_encoder.fit_transform(df[\"State\"])"
   ]
  },
  {
   "cell_type": "code",
   "execution_count": 17,
   "id": "90a0787f-dab5-4062-a509-d6f9cf9cf696",
   "metadata": {},
   "outputs": [],
   "source": [
    "dummies = pd.get_dummies(df['Electric Vehicle Type'], prefix='EV_Type')\n",
    "\n",
    "# Join the dummy variables to the original DataFrame\n",
    "df = df.join(dummies)\n",
    "\n",
    "# Drop the original 'Electric Vehicle Type' column\n",
    "df = df.drop('Electric Vehicle Type', axis=1)"
   ]
  },
  {
   "cell_type": "code",
   "execution_count": 28,
   "id": "0bc17e00-eac6-4faf-ab02-ea037160a71d",
   "metadata": {},
   "outputs": [],
   "source": [
    "dummies = pd.get_dummies(df['Clean Alternative Fuel Vehicle (CAFV) Eligibility'])\n",
    "\n",
    "# Join the dummy variables to the original DataFrame\n",
    "df = df.join(dummies)\n",
    "\n",
    "# Drop the original 'Electric Vehicle Type' column\n",
    "df = df.drop('Clean Alternative Fuel Vehicle (CAFV) Eligibility', axis=1)"
   ]
  },
  {
   "cell_type": "code",
   "execution_count": null,
   "id": "77179504-d689-4596-80a6-c740e9eb00db",
   "metadata": {},
   "outputs": [],
   "source": [
    "dummies = pd.get_dummies(df['Make'])\n",
    "\n",
    "# Join the dummy variables to the original DataFrame\n",
    "df = df.join(dummies)\n",
    "\n",
    "# Drop the original 'Electric Vehicle Type' column\n",
    "df = df.drop('Make', axis=1)"
   ]
  },
  {
   "cell_type": "code",
   "execution_count": 31,
   "id": "67623dca-4b66-44ff-9c52-bf8de218a740",
   "metadata": {},
   "outputs": [
    {
     "data": {
      "text/plain": [
       "Index(['Model Year', 'Model', 'Electric Range', 'Expected Price ($1k)'], dtype='object')"
      ]
     },
     "execution_count": 31,
     "metadata": {},
     "output_type": "execute_result"
    }
   ],
   "source": [
    "numerical_features = df.select_dtypes(include='number').columns\n",
    "numerical_features"
   ]
  },
  {
   "cell_type": "code",
   "execution_count": 32,
   "id": "7d17483e-a536-4e9b-aac9-46320e48785b",
   "metadata": {},
   "outputs": [
    {
     "data": {
      "image/png": "[encoded data removed]",
      "text/plain": [
       "<Figure size 1500x750 with 2 Axes>"
      ]
     },
     "metadata": {},
     "output_type": "display_data"
    }
   ],
   "source": [
    "plt.figure(figsize=(15, 7.5))\n",
    "correlation_matrix = df[numerical_features].corr()\n",
    "sns.heatmap(correlation_matrix, annot=True, cmap='coolwarm', fmt='.2f')\n",
    "plt.title('Correlation Matrix')\n",
    "plt.show()"
   ]
  },
  {
   "cell_type": "code",
   "execution_count": 33,
   "id": "0305a6f9-682b-464b-a5ab-7b78c659e899",
   "metadata": {},
   "outputs": [
    {
     "name": "stdout",
     "output_type": "stream",
     "text": [
      "Columns with correlation less than 0.1:\n",
      " []\n"
     ]
    }
   ],
   "source": [
    "numerical_features = df.select_dtypes(include='number').columns\n",
    "correlation = df[numerical_features].corr().apply(abs)\n",
    "correlation = correlation[['Expected Price ($1k)']].sort_values(['Expected Price ($1k)'], ascending=False)\n",
    "correlation\n",
    "\n",
    "# Set a threshold for low correlation (e.g., absolute correlation < 0.1)\n",
    "threshold = 0.1\n",
    "\n",
    "# Filter the column names that have an absolute correlation with SalePrice below the threshold\n",
    "low_corr_columns = correlation[correlation['Expected Price ($1k)']< threshold].index.tolist()\n",
    "\n",
    "# Print the list of columns with low correlation\n",
    "print(f\"Columns with correlation less than {threshold}:\\n\", low_corr_columns)"
   ]
  },
  {
   "cell_type": "code",
   "execution_count": 22,
   "id": "c2cb0218-3491-43b1-9dd5-b5f3f173fdc0",
   "metadata": {},
   "outputs": [],
   "source": [
    "df = df.drop(columns=low_corr_columns)"
   ]
  },
  {
   "cell_type": "code",
   "execution_count": 34,
   "id": "b624730c-a1a7-456b-a76b-30312756a98e",
   "metadata": {},
   "outputs": [],
   "source": [
    "X = df.drop(columns=['Expected Price ($1k)'])  # Drop the target column to get features\n",
    "y = df[\"Expected Price ($1k)\"]  # Select the target column"
   ]
  },
  {
   "cell_type": "code",
   "execution_count": 35,
   "id": "dd43027d-7f71-4c32-9a52-cdcd7e01c22f",
   "metadata": {},
   "outputs": [],
   "source": [
    "X_train, X_test, y_train, y_test = train_test_split(X, y, test_size=0.2, random_state=42)"
   ]
  },
  {
   "cell_type": "code",
   "execution_count": 36,
   "id": "30079b19-c3a3-4ac9-86ca-234267d3b309",
   "metadata": {},
   "outputs": [],
   "source": [
    "# Create a StandardScaler instance\n",
    "scaler = StandardScaler()\n",
    "\n",
    "# Fit and transform the training data\n",
    "X_train_scaled = scaler.fit_transform(X_train)\n",
    "\n",
    "# Transform the test data\n",
    "X_test_scaled = scaler.transform(X_test)"
   ]
  },
  {
   "cell_type": "code",
   "execution_count": 37,
   "id": "11894746-49c2-452e-bc53-37c61bc73c1c",
   "metadata": {},
   "outputs": [
    {
     "name": "stdout",
     "output_type": "stream",
     "text": [
      "SVR RMSE: 8.386123068227574\n",
      "SVR R2 Score: 0.8771032953906432\n"
     ]
    },
    {
     "name": "stderr",
     "output_type": "stream",
     "text": [
      "C:\\ProgramData\\anaconda3\\Lib\\site-packages\\sklearn\\metrics\\_regression.py:483: FutureWarning: 'squared' is deprecated in version 1.4 and will be removed in 1.6. To calculate the root mean squared error, use the function'root_mean_squared_error'.\n",
      "  warnings.warn(\n"
     ]
    }
   ],
   "source": [
    "# Initialize the model with some parameters\n",
    "svr_reg = SVR(kernel='rbf', C=100, epsilon=0.1)\n",
    "\n",
    "# Fit the model\n",
    "svr_reg.fit(X_train_scaled, y_train)\n",
    "\n",
    "# Predicting on test data\n",
    "y_pred_svr = svr_reg.predict(X_test_scaled)\n",
    "\n",
    "# Model evaluation\n",
    "print(\"SVR RMSE:\", mean_squared_error(y_test, y_pred_svr, squared=False))\n",
    "print(\"SVR R2 Score:\", r2_score(y_test, y_pred_svr))"
   ]
  },
  {
   "cell_type": "code",
   "execution_count": null,
   "id": "7d0131fc-a187-4a0a-9d41-e2498c4b3722",
   "metadata": {},
   "outputs": [],
   "source": []
  }
 ],
 "metadata": {
  "kernelspec": {
   "display_name": "Python 3 (ipykernel)",
   "language": "python",
   "name": "python3"
  },
  "language_info": {
   "codemirror_mode": {
    "name": "ipython",
    "version": 3
   },
   "file_extension": ".py",
   "mimetype": "text/x-python",
   "name": "python",
   "nbconvert_exporter": "python",
   "pygments_lexer": "ipython3",
   "version": "3.12.4"
  }
 },
 "nbformat": 4,
 "nbformat_minor": 5
}
