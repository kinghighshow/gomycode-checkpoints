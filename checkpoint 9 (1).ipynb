{
 "cells": [
  {
   "cell_type": "markdown",
   "id": "a85df2a7-cef7-426d-a720-da54f2ecf42d",
   "metadata": {},
   "source": [
    "## What You're Aiming For\n",
    "\n",
    "##### Create a calculator program that allows the user to perform mathematical operations on two numbers using basic functions and a dictionary to store the operations. The program should also have the ability to continue calculations with the result of previous calculations.\n",
    "\n",
    "\n",
    "##### Instructions\n",
    "\n",
    "- Create four basic mathematical functions: 'add', 'subtract', 'multiply', and 'divide' that take in two numbers and return the result of the operation.\n",
    "- Create a dictionary 'operations' that assigns the functions to their corresponding operation symbols.\n",
    "- Create a function 'calculator' that prompts the user to input the first number.\n",
    "- Use a for loop to print the available operation symbols.\n",
    "- Create a while loop that will continue to run until the user chooses to end the current calculation.\n",
    "- Inside the while loop, prompt the user to select an operation symbol.\n",
    "- Prompt the user to input the second number.\n",
    "- Use the dictionary to retrieve the function that corresponds to the selected operation symbol and store it in a variable 'calculation_function'\n",
    "- Perform the calculation by calling the 'calculation_function' on the two input numbers and store the result in a variable 'answer'.\n",
    "- Print the equation and the result of the calculation.\n",
    "- Ask the user if they would like to continue using the result as the first number for further calculations.\n",
    "- If the user chooses to continue, update the 'num1' variable to the value of 'answer'.\n",
    "- If the user chooses to start a new calculation, set the 'should_continue' variable to false and call the 'calculator' function to start a new calculation."
   ]
  },
  {
   "cell_type": "code",
   "execution_count": 3,
   "id": "6734e092-5279-464e-bbb1-eb1326bd445a",
   "metadata": {},
   "outputs": [
    {
     "name": "stdin",
     "output_type": "stream",
     "text": [
      "Type in the first num 3\n"
     ]
    },
    {
     "name": "stdout",
     "output_type": "stream",
     "text": [
      "list of operations\n",
      "+ - * / "
     ]
    },
    {
     "name": "stdin",
     "output_type": "stream",
     "text": [
      "choose an Operation [ +, -, * , / :  4\n",
      "Type in the second num 3\n"
     ]
    },
    {
     "name": "stdout",
     "output_type": "stream",
     "text": [
      "Invalid operation symbol. Please choose from +, -, *, /.\n"
     ]
    },
    {
     "name": "stdin",
     "output_type": "stream",
     "text": [
      "choose an Operation [ +, -, * , / :  -\n",
      "Type in the second num 1\n"
     ]
    },
    {
     "name": "stdout",
     "output_type": "stream",
     "text": [
      "3 - 1 = 2\n"
     ]
    },
    {
     "name": "stdin",
     "output_type": "stream",
     "text": [
      "Do you want to continue with this result? (yes/no):  no\n"
     ]
    }
   ],
   "source": [
    "\n",
    "def addition(a,b):\n",
    "    return a + b\n",
    "def subtraction(a,b):\n",
    "    return a-b\n",
    "def multiplication(a,b):\n",
    "    return a * b\n",
    "def division(a,b):\n",
    "    return a/b\n",
    "\n",
    "operation_dictionary = {\"+\": addition, \"-\": subtraction, \"*\": multiplication, \"/\": division}\n",
    "\n",
    "def calculator():\n",
    "    num_1 = int(input(\"Type in the first num\"))\n",
    "    print(\"list of operations\")\n",
    "    for operation in operation_dictionary:\n",
    "        print(operation, end = \" \")\n",
    "    should_continue = True\n",
    "    while should_continue:\n",
    "        operation_symbol = input(\"choose an Operation [ +, -, * , / : \")\n",
    "        num_2 = int(input(\"Type in the second num\"))\n",
    "        calculation_function = operation_dictionary.get(operation_symbol)\n",
    "        if calculation_function:\n",
    "            answer = calculation_function(num_1, num_2)\n",
    "            print(f\"{num_1} {operation_symbol} {num_2} = {answer}\")\n",
    "            \n",
    "            choice = input(\"Do you want to continue with this result? (yes/no): \")\n",
    "            if choice.lower() == 'yes':\n",
    "                num_1 = answer\n",
    "            else:\n",
    "                should_continue = False\n",
    "        else:\n",
    "            print(\"Invalid operation symbol. Please choose from +, -, *, /.\")\n",
    "calculator()"
   ]
  },
  {
   "cell_type": "code",
   "execution_count": null,
   "id": "f96ef273-e3a5-466b-af96-1c827e76756b",
   "metadata": {},
   "outputs": [],
   "source": []
  }
 ],
 "metadata": {
  "kernelspec": {
   "display_name": "Python 3 (ipykernel)",
   "language": "python",
   "name": "python3"
  },
  "language_info": {
   "codemirror_mode": {
    "name": "ipython",
    "version": 3
   },
   "file_extension": ".py",
   "mimetype": "text/x-python",
   "name": "python",
   "nbconvert_exporter": "python",
   "pygments_lexer": "ipython3",
   "version": "3.11.7"
  }
 },
 "nbformat": 4,
 "nbformat_minor": 5
}
