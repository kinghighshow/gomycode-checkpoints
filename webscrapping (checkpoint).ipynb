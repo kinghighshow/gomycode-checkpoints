{
 "cells": [
  {
   "cell_type": "code",
   "execution_count": null,
   "id": "5272769c-1841-4747-9544-2d69145d8d41",
   "metadata": {},
   "outputs": [],
   "source": [
    "import requests\n",
    "from bs4 import BeautifulSoup as bs\n",
    "import pandas as pd"
   ]
  },
  {
   "cell_type": "code",
   "execution_count": null,
   "id": "fc46a7a5-ef2e-418b-9fb2-98ec2f143515",
   "metadata": {},
   "outputs": [],
   "source": [
    "url = \"https://en.wikipedia.org/wiki/List_of_countries_by_cancer_rate\"\n",
    "\n",
    "response = requests.get(url)\n",
    "\n",
    "if response.status_code == 200:\n",
    "    print(\"successfully fetched\")\n",
    "else:\n",
    "    print(\"failed to fetch\")"
   ]
  },
  {
   "cell_type": "code",
   "execution_count": null,
   "id": "b524b0e7-1b13-48b5-beea-db58e4bfe396",
   "metadata": {},
   "outputs": [],
   "source": [
    "soup = bs(response.content, 'html.parser')"
   ]
  },
  {
   "cell_type": "code",
   "execution_count": null,
   "id": "3c9c293a-7c50-4e3d-9d32-a027277f416d",
   "metadata": {},
   "outputs": [],
   "source": [
    "soup"
   ]
  },
  {
   "cell_type": "code",
   "execution_count": null,
   "id": "ea9d87a5-404c-4ece-9b64-8dde05d80f21",
   "metadata": {},
   "outputs": [],
   "source": [
    "soup.prettify()"
   ]
  },
  {
   "cell_type": "code",
   "execution_count": null,
   "id": "4a4f3c21-4c7c-4990-b2c7-88ca96a8bd02",
   "metadata": {},
   "outputs": [],
   "source": [
    "tables = soup.find_all('table')"
   ]
  },
  {
   "cell_type": "code",
   "execution_count": null,
   "id": "19b66b9a-7867-4778-bd0a-83d8b9bc2937",
   "metadata": {},
   "outputs": [],
   "source": [
    "len(tables)"
   ]
  },
  {
   "cell_type": "code",
   "execution_count": null,
   "id": "21fc52ae-f1af-4ada-92c7-1e868c97a33c",
   "metadata": {},
   "outputs": [],
   "source": [
    "specific_table = tables[1]"
   ]
  },
  {
   "cell_type": "code",
   "execution_count": null,
   "id": "b3305175-69f9-4361-9ded-a5704ec5148d",
   "metadata": {},
   "outputs": [],
   "source": [
    "Cancer_record = []"
   ]
  },
  {
   "cell_type": "code",
   "execution_count": null,
   "id": "f1d54d5c-d0b1-429c-8773-f18a5f7c5224",
   "metadata": {},
   "outputs": [],
   "source": [
    "\n",
    "Records = specific_table.find_all('tr')\n",
    "for row in Records [1:]:\n",
    "    column = row.find_all(\"td\")\n",
    "    if column:\n",
    "        country = column[0].get_text(strip = True)\n",
    "        Male_Include_Number = column[1].get_text(strip = True)\n",
    "        Male_Include_Rate = column[2].get_text(strip = True)\n",
    "        Male_Exclude_Number = column[3].get_text(strip = True)\n",
    "        Male_Exclude_Rate = column[4].get_text(strip = True)\n",
    "        Female_Include_Number = column[5].get_text(strip = True)\n",
    "        Female_Include_Rate = column[6].get_text(strip = True)\n",
    "        Female_Exclude_Number = column[7].get_text(strip = True)\n",
    "        Female_Exclude_Rate = column[8].get_text(strip = True)\n",
    "\n",
    "        Cancer_record.append({\n",
    "            \"country\":country,\n",
    "            \"Male_Include_Number\":Male_Include_Number,\n",
    "            \"Male_Include_Rate\":Male_Include_Rate,\n",
    "            \"Male_Exclude_Number\":Male_Exclude_Number,\n",
    "            \"Male_Exclude_Rate\":Male_Exclude_Rate,\n",
    "            \"Female_Include_Number\":Female_Include_Number,\n",
    "            \"Female_Include_Rate\":Female_Include_Rate,\n",
    "            \"Female_Exclude_Number\":Female_Exclude_Number,\n",
    "            \"Female_Exclude_Rate\":Female_Exclude_Rate,\n",
    "        })\n",
    "    else:\n",
    "        print('failed to fetch')\n",
    "        "
   ]
  },
  {
   "cell_type": "code",
   "execution_count": null,
   "id": "f372ce05-2bd8-40ce-af61-820dac799ff8",
   "metadata": {},
   "outputs": [],
   "source": [
    "Cancer_record"
   ]
  },
  {
   "cell_type": "code",
   "execution_count": null,
   "id": "1c832705-8c5f-4a02-9d7b-0841832b2e24",
   "metadata": {},
   "outputs": [],
   "source": [
    "Cancer_record_df = pd.DataFrame(Cancer_record)"
   ]
  },
  {
   "cell_type": "code",
   "execution_count": null,
   "id": "17da0ed5-2e22-4ebb-b678-136d792e0028",
   "metadata": {},
   "outputs": [],
   "source": [
    "Cancer_record_df"
   ]
  },
  {
   "cell_type": "code",
   "execution_count": null,
   "id": "add4f1e5-c0db-48d6-8721-87d685d2715b",
   "metadata": {},
   "outputs": [],
   "source": []
  }
 ],
 "metadata": {
  "kernelspec": {
   "display_name": "Python 3 (ipykernel)",
   "language": "python",
   "name": "python3"
  },
  "language_info": {
   "codemirror_mode": {
    "name": "ipython",
    "version": 3
   },
   "file_extension": ".py",
   "mimetype": "text/x-python",
   "name": "python",
   "nbconvert_exporter": "python",
   "pygments_lexer": "ipython3",
   "version": "3.12.4"
  }
 },
 "nbformat": 4,
 "nbformat_minor": 5
}
